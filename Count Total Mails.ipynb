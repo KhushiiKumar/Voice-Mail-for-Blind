{
 "cells": [
  {
   "cell_type": "markdown",
   "id": "b584597b",
   "metadata": {},
   "source": [
    "## Function to Count Total Mails in Inbox"
   ]
  },
  {
   "cell_type": "code",
   "execution_count": null,
   "id": "107cce46",
   "metadata": {},
   "outputs": [],
   "source": [
    "def count_total_mails():\n",
    "    \n",
    "    #Host and Port Area(SSL Security)\n",
    "    mail = imaplib.IMAP4_SSL('imap.gmail.com',993)                                                              \n",
    "    mail.login(unm,psw)                                                                   \n",
    "    mail.select(\"inbox\")\n",
    "    \n",
    "    print(\"Checking for e-mails for \",unm,\".\", sep='')\n",
    "    \n",
    "    #Fetching ALL Mails\n",
    "    typ, messageIDs = mail.search(None, \"ALL\")    \n",
    "    messageIDsString = str( messageIDs[0], encoding='utf8' )\n",
    "    \n",
    "    #Split to get individual IDs\n",
    "    listOfSplitStrings = messageIDsString.split(\" \")\n",
    "     \n",
    "    #Length of listOfSplitStrings is Total Mails present \n",
    "    print (\"Number of mails in your inbox :\"+str(len(listOfSplitStrings)))\n",
    "    ts = gTTS(text=\"Total mails are :\"+str(len(listOfSplitStrings)), lang='en')                              \n",
    "    tsname=(\"C:/Users/HP/Desktop/voicemail/total.mp3\")\n",
    "    ts.save(tsname)\n",
    "    \n",
    "    #Voice Out\n",
    "    voice(tsname)"
   ]
  }
 ],
 "metadata": {
  "kernelspec": {
   "display_name": "Python 3",
   "language": "python",
   "name": "python3"
  },
  "language_info": {
   "codemirror_mode": {
    "name": "ipython",
    "version": 3
   },
   "file_extension": ".py",
   "mimetype": "text/x-python",
   "name": "python",
   "nbconvert_exporter": "python",
   "pygments_lexer": "ipython3",
   "version": "3.8.8"
  }
 },
 "nbformat": 4,
 "nbformat_minor": 5
}
