{
 "cells": [
  {
   "cell_type": "markdown",
   "id": "87400fe2",
   "metadata": {},
   "source": [
    "## Function to Count Total Unseen Mails "
   ]
  },
  {
   "cell_type": "code",
   "execution_count": null,
   "id": "6ed4eded",
   "metadata": {},
   "outputs": [],
   "source": [
    "def count_unseen_mails():\n",
    "\n",
    "    #Fetching UNSEEN Mails\n",
    "    typ, messageIDs = mail.search(None, \"UNSEEN\")    \n",
    "    messageIDsString = str( messageIDs[0], encoding='utf8' )\n",
    "    \n",
    "    #Split to get individual IDs\n",
    "    listOfSplitStrings = messageIDsString.split(\" \")\n",
    "\n",
    "    #Number of IDs is Zero\n",
    "    if len(listOfSplitStrings) == 0:\n",
    "        print(\"You have no new e-mails.\")\n",
    "\n",
    "        \n",
    "        ts = gTTS(text=\"You have no new e-mails.\", lang='en')                              \n",
    "        tsname=(\"C:/Users/HP/Desktop/voicemail/unseen.mp3\")\n",
    "        ts.save(tsname)\n",
    "        voice(tsname)\n",
    "\n",
    "    #Number of IDs is One\n",
    "    elif len(listOfSplitStrings) == 1:\n",
    "        print(\"You have\",len(listOfSplitStrings),\"new e-mail.\")\n",
    "\n",
    "\n",
    "        ts = gTTS(text=\"You have one unseen email\", lang='en')                             \n",
    "        tsname=(\"C:/Users/HP/Desktop/voicemail/unseen.mp3\")\n",
    "        ts.save(tsname)\n",
    "        voice(tsname)\n",
    "\n",
    "\n",
    "    else:\n",
    "        #Number of IDs is more than One\n",
    "        print(\"You have\",len(listOfSplitStrings),\"new e-mails.\")\n",
    "\n",
    "        ts = gTTS(text=\"Total unseen mails are :\"+str(len(listOfSplitStrings)), lang='en')            \n",
    "        tsname=(\"C:/Users/HP/Desktop/voicemail/unseen.mp3\")\n",
    "        ts.save(tsname)\n",
    "        voice(tsname)\n",
    "        \n",
    "        log_out()"
   ]
  }
 ],
 "metadata": {
  "kernelspec": {
   "display_name": "Python 3",
   "language": "python",
   "name": "python3"
  },
  "language_info": {
   "codemirror_mode": {
    "name": "ipython",
    "version": 3
   },
   "file_extension": ".py",
   "mimetype": "text/x-python",
   "name": "python",
   "nbconvert_exporter": "python",
   "pygments_lexer": "ipython3",
   "version": "3.8.8"
  }
 },
 "nbformat": 4,
 "nbformat_minor": 5
}
