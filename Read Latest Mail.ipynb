{
 "cells": [
  {
   "cell_type": "markdown",
   "id": "e7cfa5fe",
   "metadata": {},
   "source": [
    "## Function to read Latest Mail"
   ]
  },
  {
   "cell_type": "code",
   "execution_count": null,
   "id": "0424829d",
   "metadata": {},
   "outputs": [],
   "source": [
    "def search_latest():\n",
    "\n",
    "    #Creating an IMAP Object and Logging In\n",
    "    mail = imaplib.IMAP4_SSL('imap.gmail.com',993)                                                             \n",
    "    mail.login(unm,psw)                                                                  \n",
    "    stat, total = mail.select('Inbox')                  \n",
    "\n",
    "    \n",
    "    #Search Mails\n",
    "    result, data = mail.uid('search',None, \"ALL\")\n",
    "    inbox_item_list = data[0].split()\n",
    "    \n",
    "    \n",
    "    new = inbox_item_list[-1]         #Fetching Mails From Last      \n",
    "    #old = inbox_item_list[0]         #Fetching Mails From Start  \n",
    "    \n",
    "    \n",
    "    #Fetching Mail Information\n",
    "    result2, email_data = mail.uid('fetch', new, '(RFC822)')  \n",
    "    \n",
    "    #Decoding UTF-8 Encoding\n",
    "    raw_email = email_data[0][1].decode(\"utf-8\")                                            \n",
    "    email_message = email.message_from_string(raw_email)\n",
    "\n",
    "    print (\"From: \"+email_message['From'])\n",
    "    print (\"Subject: \"+str(email_message['Subject']))\n",
    "    \n",
    "\n",
    "    #Using BeautifulSoup to parse some content from a html page\n",
    "    stat, data1 = mail.fetch(total[0], \"(UID BODY[TEXT])\")\n",
    "    msg = data1[0][1]\n",
    "    soup = BeautifulSoup(msg, \"html.parser\")\n",
    "    txt = soup.get_text()\n",
    "    print (\"Body :\"+txt)\n",
    "\n",
    "    \n",
    "    #Reading From, Subject and Body of the Mail\n",
    "    ts = gTTS(text=\"From: \"+email_message['From']+\" .Subject: \"+str(email_message['Subject'])+\" .Body of the mail: \"+txt, lang='en')\n",
    "    tsname=(\"C:/Users/HP/Desktop/voicemail/body.mp3\")\n",
    "    ts.save(tsname)\n",
    "    voice(tsname)\n",
    "    \n",
    "    log_out()\n"
   ]
  }
 ],
 "metadata": {
  "kernelspec": {
   "display_name": "Python 3",
   "language": "python",
   "name": "python3"
  },
  "language_info": {
   "codemirror_mode": {
    "name": "ipython",
    "version": 3
   },
   "file_extension": ".py",
   "mimetype": "text/x-python",
   "name": "python",
   "nbconvert_exporter": "python",
   "pygments_lexer": "ipython3",
   "version": "3.8.8"
  }
 },
 "nbformat": 4,
 "nbformat_minor": 5
}
